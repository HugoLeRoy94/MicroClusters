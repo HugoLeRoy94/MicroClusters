{
 "cells": [
  {
   "cell_type": "code",
   "execution_count": 1,
   "metadata": {},
   "outputs": [],
   "source": [
    "import numpy as np\n",
    "import sys\n",
    "sys.path.append('src/')\n",
    "import MC_wrapper"
   ]
  },
  {
   "cell_type": "code",
   "execution_count": 2,
   "metadata": {},
   "outputs": [],
   "source": [
    "E1,E2 = 2.5,0.\n",
    "Interactions = [[0.,0.,0.],[0.,E1,0.],[0.,0.,E2]]\n",
    "Evalence=0"
   ]
  },
  {
   "cell_type": "code",
   "execution_count": 6,
   "metadata": {},
   "outputs": [
    {
     "name": "stdout",
     "output_type": "stream",
     "text": [
      "polymer successfully generated\n",
      "particles successfully added\n"
     ]
    }
   ],
   "source": [
    "mc = MC_wrapper.MC(32,3,1,2,Interactions,Evalence,0.1)"
   ]
  },
  {
   "cell_type": "code",
   "execution_count": 7,
   "metadata": {},
   "outputs": [
    {
     "name": "stdout",
     "output_type": "stream",
     "text": [
      "move invalidate\n",
      "move invalidate\n",
      "move invalidate\n",
      "move invalidate\n",
      "move invalidate\n",
      "move invalidate\n",
      "move invalidate\n",
      "move invalidate\n",
      "move invalidate\n",
      "move invalidate\n",
      "move invalidate\n",
      "move invalidate\n",
      "move invalidate\n",
      "move invalidate\n",
      "move invalidate\n",
      "move invalidate\n",
      "move invalidate\n",
      "move invalidate\n",
      "move invalidate\n",
      "move invalidate\n",
      "move invalidate\n",
      "move invalidate\n",
      "move invalidate\n",
      "move invalidate\n",
      "move invalidate\n",
      "move invalidate\n",
      "move invalidate\n",
      "move invalidate\n",
      "move invalidate\n",
      "move invalidate\n"
     ]
    },
    {
     "data": {
      "text/plain": [
       "[True,\n",
       " True,\n",
       " True,\n",
       " True,\n",
       " True,\n",
       " True,\n",
       " True,\n",
       " True,\n",
       " True,\n",
       " True,\n",
       " True,\n",
       " True,\n",
       " True,\n",
       " True,\n",
       " True,\n",
       " True,\n",
       " True,\n",
       " True,\n",
       " True,\n",
       " True,\n",
       " True,\n",
       " True,\n",
       " True,\n",
       " True,\n",
       " True,\n",
       " True,\n",
       " True,\n",
       " True,\n",
       " True,\n",
       " True,\n",
       " True,\n",
       " True,\n",
       " True,\n",
       " True,\n",
       " True,\n",
       " True,\n",
       " True,\n",
       " True,\n",
       " True,\n",
       " True,\n",
       " True,\n",
       " True,\n",
       " True,\n",
       " True,\n",
       " True,\n",
       " True,\n",
       " True,\n",
       " True,\n",
       " True,\n",
       " True,\n",
       " True,\n",
       " True,\n",
       " True,\n",
       " True,\n",
       " True,\n",
       " True,\n",
       " True,\n",
       " True,\n",
       " True,\n",
       " True,\n",
       " True,\n",
       " True,\n",
       " True,\n",
       " True,\n",
       " True,\n",
       " True,\n",
       " True,\n",
       " True,\n",
       " True,\n",
       " True,\n",
       " True,\n",
       " True,\n",
       " True,\n",
       " True,\n",
       " True,\n",
       " True,\n",
       " True,\n",
       " True,\n",
       " True,\n",
       " True,\n",
       " True,\n",
       " True,\n",
       " True,\n",
       " True,\n",
       " True,\n",
       " True,\n",
       " True,\n",
       " True,\n",
       " True,\n",
       " True,\n",
       " True,\n",
       " True,\n",
       " True,\n",
       " True,\n",
       " True,\n",
       " True,\n",
       " True,\n",
       " True,\n",
       " True,\n",
       " True]"
      ]
     },
     "execution_count": 7,
     "metadata": {},
     "output_type": "execute_result"
    }
   ],
   "source": [
    "mc.monte_carlo_steps(100)"
   ]
  },
  {
   "cell_type": "code",
   "execution_count": 4,
   "metadata": {},
   "outputs": [
    {
     "data": {
      "text/plain": [
       "0.0"
      ]
     },
     "execution_count": 4,
     "metadata": {},
     "output_type": "execute_result"
    }
   ],
   "source": [
    "mc.get_energy()"
   ]
  },
  {
   "cell_type": "code",
   "execution_count": 5,
   "metadata": {},
   "outputs": [
    {
     "data": {
      "text/plain": [
       "(array([ 7025, 21109, 28615], dtype=int32), array([0, 1, 2], dtype=int32))"
      ]
     },
     "execution_count": 5,
     "metadata": {},
     "output_type": "execute_result"
    }
   ],
   "source": [
    "mc.get_clusters()"
   ]
  },
  {
   "cell_type": "code",
   "execution_count": 6,
   "metadata": {},
   "outputs": [
    {
     "name": "stdout",
     "output_type": "stream",
     "text": [
      "[3 1 2]\n",
      "[4 1 3]\n"
     ]
    }
   ],
   "source": [
    "print(MC_wrapper.to_xyz(82,5))\n",
    "print(MC_wrapper.to_xyz(108,5))"
   ]
  },
  {
   "cell_type": "code",
   "execution_count": 6,
   "metadata": {},
   "outputs": [
    {
     "name": "stderr",
     "output_type": "stream",
     "text": [
      "/media/hcleroy/anaconda3/lib/python3.11/site-packages/pyvista/core/utilities/points.py:55: UserWarning: Points is not a float type. This can cause issues when transforming or applying filters. Casting to ``np.float32``. Disable this by passing ``force_float=False``.\n",
      "  warnings.warn(\n"
     ]
    }
   ],
   "source": [
    "MC_wrapper.plot_simulation(mc)"
   ]
  },
  {
   "cell_type": "code",
   "execution_count": 17,
   "metadata": {},
   "outputs": [],
   "source": [
    "MC_wrapper.plot_simulation(mc,'simulation_2.html')"
   ]
  },
  {
   "cell_type": "code",
   "execution_count": 7,
   "metadata": {},
   "outputs": [
    {
     "ename": "",
     "evalue": "",
     "output_type": "error",
     "traceback": [
      "\u001b[1;31mThe Kernel crashed while executing code in the current cell or a previous cell. \n",
      "\u001b[1;31mPlease review the code in the cell(s) to identify a possible cause of the failure. \n",
      "\u001b[1;31mClick <a href='https://aka.ms/vscodeJupyterKernelCrash'>here</a> for more info. \n",
      "\u001b[1;31mView Jupyter <a href='command:jupyter.viewOutput'>log</a> for further details."
     ]
    }
   ],
   "source": [
    "mc.monte_carlo_steps(100)"
   ]
  },
  {
   "cell_type": "code",
   "execution_count": null,
   "metadata": {},
   "outputs": [],
   "source": []
  },
  {
   "cell_type": "code",
   "execution_count": 5,
   "metadata": {},
   "outputs": [
    {
     "name": "stdout",
     "output_type": "stream",
     "text": [
      "[104  96 117]\n",
      "[array([ 53,  77, 102,  81, 112,   8,  13,  44,  35,  19], dtype=int32)]\n",
      "[4 0 4]\n",
      "[3 4 1]\n",
      "[4 3 2]\n",
      "[[2 0 3]\n",
      " [3 0 2]\n",
      " [4 0 2]\n",
      " [3 1 1]\n",
      " [4 2 2]\n",
      " [0 1 3]\n",
      " [0 2 3]\n",
      " [1 3 4]\n",
      " [1 2 0]\n",
      " [0 3 4]]\n"
     ]
    }
   ],
   "source": [
    "print(mc.get_DHH1_positions())\n",
    "print(mc.get_RNA_positions())\n",
    "for dhh1 in mc.get_DHH1_positions():\n",
    "    print(MC_wrapper.to_xyz(dhh1,mc.size))\n",
    "for rna in mc.get_RNA_positions():\n",
    "    coords = np.array([MC_wrapper.to_xyz(pos, mc.size) for pos in rna])\n",
    "    print(coords)"
   ]
  },
  {
   "cell_type": "code",
   "execution_count": 51,
   "metadata": {},
   "outputs": [],
   "source": [
    "def clip_segment_to_box(p1, p2, size):\n",
    "    \"\"\"Clip a line segment to the box boundaries.\"\"\"\n",
    "    min_bound = np.array([-0.5, -0.5, -0.5])\n",
    "    max_bound = np.array([size - 1+0.5, size - 1+0.5, size - 1+0.5])\n",
    "\n",
    "    direction = p2 - p1\n",
    "    t_min = 0.0\n",
    "    t_max = 1.0\n",
    "\n",
    "    for i in range(3):\n",
    "        if direction[i] == 0:\n",
    "            if p1[i] < min_bound[i] or p1[i] > max_bound[i]:\n",
    "                return None  # Segment is outside the box\n",
    "        else:\n",
    "            t1 = (min_bound[i] - p1[i]) / direction[i]\n",
    "            t2 = (max_bound[i] - p2[i]) / direction[i]\n",
    "            print(t1)\n",
    "            print(t2)\n",
    "            print()\n",
    "            t_enter = min(t1, t2)\n",
    "            t_exit = max(t1, t2)\n",
    "            t_min = max(t_min, t_enter)\n",
    "            t_max = min(t_max, t_exit)\n",
    "            if t_min > t_max:\n",
    "                return None  # No intersection, segment is outside the box\n",
    "\n",
    "    if t_max < 0 or t_min > 1:\n",
    "        return None  # Segment is outside the box\n",
    "    print(t_min)\n",
    "    print(t_max)\n",
    "    # Compute the clipped segment\n",
    "    clipped_p1 = p1 + t_min * direction\n",
    "    clipped_p2 = p1 + t_max * direction\n",
    "    return np.array([clipped_p1, clipped_p2])\n",
    "\n",
    "def liang_barsky(p1,p2,size):\n",
    "    # Unwrap positions to account for periodic boundary conditions\n",
    "    delta = p2 - p1\n",
    "    for dim in range(3):\n",
    "        if delta[dim] > size / 2:\n",
    "            delta[dim] -= size\n",
    "        elif delta[dim] < -size / 2:\n",
    "            delta[dim] += size\n",
    "    p2 = p1 + delta\n",
    "    x_min,y_min,z_min=-0.5,-0.5,-0.5\n",
    "    x_max,y_max,z_max=size-0.5,size-0.5,size-0.5\n",
    "    x1,y1,z1 = p1[0],p1[1],p1[2]\n",
    "    x2,y2,z2 = p2[0],p2[1],p2[2]\n",
    "    dx = x2 - x1\n",
    "    dy = y2 - y1\n",
    "    dz = z2 - z1\n",
    "    p = [-dx, dx, -dy, dy, -dz, dz]\n",
    "    q = [x1 - x_min, x_max - x1, y1 - y_min, y_max - y1, z1 - z_min, z_max - z1]\n",
    "    t_enter = 0.0\n",
    "    t_exit = 1.0\n",
    "\n",
    "    for i in range(6):\n",
    "        if p[i] == 0:  # Check if line is parallel to the clipping boundary\n",
    "            if q[i] < 0:\n",
    "                return None  # Line is outside and parallel, so completely discarded\n",
    "        else:\n",
    "            t = q[i] / p[i]\n",
    "            if p[i] < 0:\n",
    "                if t > t_enter:\n",
    "                    t_enter = t\n",
    "            else:\n",
    "                if t < t_exit:\n",
    "                    t_exit = t\n",
    "\n",
    "    if t_enter > t_exit:\n",
    "        return None  # Line is completely outside\n",
    "\n",
    "    x1_clip = x1 + t_enter * dx\n",
    "    y1_clip = y1 + t_enter * dy\n",
    "    x2_clip = x1 + t_exit * dx\n",
    "    y2_clip = y1 + t_exit * dy\n",
    "    z1_clip = z1 + t_enter * dz\n",
    "    z2_clip = z2 + t_exit * dz\n",
    "\n",
    "\n",
    "    return np.array([[x1_clip, y1_clip, z1_clip],[x2_clip, y2_clip, z2_clip]])"
   ]
  },
  {
   "cell_type": "code",
   "execution_count": 52,
   "metadata": {},
   "outputs": [
    {
     "data": {
      "text/plain": [
       "array([[4. , 2. , 2. ],\n",
       "       [4.5, 1.5, 3.5]])"
      ]
     },
     "execution_count": 52,
     "metadata": {},
     "output_type": "execute_result"
    }
   ],
   "source": [
    "liang_barsky(np.array([4.,2.,2.]),np.array([0.,1.,3.]),5)"
   ]
  },
  {
   "cell_type": "code",
   "execution_count": 15,
   "metadata": {},
   "outputs": [
    {
     "data": {
      "text/plain": [
       "True"
      ]
     },
     "execution_count": 15,
     "metadata": {},
     "output_type": "execute_result"
    }
   ],
   "source": [
    "mc.monte_carlo_step()"
   ]
  },
  {
   "cell_type": "code",
   "execution_count": 4,
   "metadata": {},
   "outputs": [
    {
     "data": {
      "text/plain": [
       "1"
      ]
     },
     "execution_count": 4,
     "metadata": {},
     "output_type": "execute_result"
    }
   ],
   "source": [
    "x1,y1,z1 = 0,1,0\n",
    "x2,y2,z2 = 1,0,0\n",
    "np.max(np.abs([x2-x1,y2-y1,z2-z1]))"
   ]
  },
  {
   "cell_type": "code",
   "execution_count": 29,
   "metadata": {},
   "outputs": [],
   "source": [
    "box = B.BOX(5,3,0.,0.,[10.,0.],0.1)"
   ]
  },
  {
   "cell_type": "code",
   "execution_count": 31,
   "metadata": {},
   "outputs": [
    {
     "data": {
      "text/plain": [
       "26"
      ]
     },
     "execution_count": 31,
     "metadata": {},
     "output_type": "execute_result"
    }
   ],
   "source": [
    "box.get_neighbors(0,0,0).__len__()"
   ]
  },
  {
   "cell_type": "code",
   "execution_count": 27,
   "metadata": {},
   "outputs": [
    {
     "data": {
      "text/plain": [
       "-20.0"
      ]
     },
     "execution_count": 27,
     "metadata": {},
     "output_type": "execute_result"
    }
   ],
   "source": [
    "box.total_energy()"
   ]
  },
  {
   "cell_type": "code",
   "execution_count": 26,
   "metadata": {},
   "outputs": [
    {
     "data": {
      "text/plain": [
       "(array([52, 71, 90], dtype=int32), array([0], dtype=int32))"
      ]
     },
     "execution_count": 26,
     "metadata": {},
     "output_type": "execute_result"
    }
   ],
   "source": [
    "box.build_clusters()"
   ]
  },
  {
   "cell_type": "code",
   "execution_count": 25,
   "metadata": {},
   "outputs": [
    {
     "data": {
      "text/plain": [
       "True"
      ]
     },
     "execution_count": 25,
     "metadata": {},
     "output_type": "execute_result"
    }
   ],
   "source": [
    "box.monte_carlo_step()"
   ]
  },
  {
   "cell_type": "code",
   "execution_count": 5,
   "metadata": {},
   "outputs": [
    {
     "name": "stdout",
     "output_type": "stream",
     "text": [
      "(206676,)\n"
     ]
    }
   ],
   "source": [
    "moves= np.array(mc.monte_carlo_steps(step_tot))\n",
    "\n",
    "print(np.where(moves==True)[0].shape)"
   ]
  },
  {
   "cell_type": "code",
   "execution_count": 6,
   "metadata": {},
   "outputs": [
    {
     "name": "stdout",
     "output_type": "stream",
     "text": [
      "0.206676\n"
     ]
    }
   ],
   "source": [
    "print(np.where(moves==True)[0].shape[0]/step_tot)"
   ]
  },
  {
   "cell_type": "code",
   "execution_count": 7,
   "metadata": {},
   "outputs": [],
   "source": [
    "indices,starts = mc.get_clusters()"
   ]
  },
  {
   "cell_type": "code",
   "execution_count": 8,
   "metadata": {},
   "outputs": [
    {
     "name": "stdout",
     "output_type": "stream",
     "text": [
      "[ 0  1  4  5  7  8 13 15 18 19 20 21 23 26 27 29 31 32 34 35 36 37 39 40\n",
      " 41 44 45 48 51 56 57 59 60 61 62 67 68 70 76 82 83 84 86 94 99]\n",
      "2.2\n"
     ]
    }
   ],
   "source": [
    "print(starts)\n",
    "print(np.sum(np.diff(starts))/starts.shape[0])"
   ]
  },
  {
   "cell_type": "code",
   "execution_count": 9,
   "metadata": {},
   "outputs": [
    {
     "name": "stdout",
     "output_type": "stream",
     "text": [
      "2.2222222222222223\n"
     ]
    }
   ],
   "source": [
    "print(mc.average_cluster_size())"
   ]
  },
  {
   "cell_type": "code",
   "execution_count": 4,
   "metadata": {},
   "outputs": [],
   "source": [
    "mc = MC.MC(100,100,0,0,interactions=Interactions,temperature=1.)\n",
    "av_c_size = np.zeros(check_step,dtype=float)\n",
    "for n_steps in range(check_step):\n",
    "    mc.monte_carlo_steps(step_tot//check_step)\n",
    "    av_c_size[n_steps] = np.mean(mc.box.cluster_size())"
   ]
  },
  {
   "cell_type": "code",
   "execution_count": 26,
   "metadata": {},
   "outputs": [
    {
     "name": "stdout",
     "output_type": "stream",
     "text": [
      "(1, 2, 3)\n"
     ]
    }
   ],
   "source": [
    "x = np.random.randint(1,4)\n",
    "y = np.random.randint(1,4)\n",
    "z = np.random.randint(1,4)\n",
    "print((x,y,z))\n",
    "if (x,y,z) != (1,2,3):\n",
    "    print('ok')"
   ]
  },
  {
   "cell_type": "code",
   "execution_count": 3,
   "metadata": {},
   "outputs": [
    {
     "data": {
      "text/plain": [
       "array([1, 1, 1, 1, 1, 1, 1, 1, 1, 1, 1, 1, 1, 1, 1, 1, 1, 1, 1, 1, 1, 1,\n",
       "       1, 1, 1, 1, 1, 1, 1, 1, 1, 1, 1, 1, 1, 1, 1, 1, 1, 1, 1, 1, 1, 1,\n",
       "       1, 1, 1, 1, 1, 1, 1, 1, 1, 1, 1, 1, 1, 1, 1, 1, 1, 1, 1, 1, 1, 1,\n",
       "       1, 1, 1, 1, 1, 1, 1, 1, 1, 1, 1, 1, 1, 1, 1, 1, 1, 1, 1, 1, 1, 1,\n",
       "       1, 1, 1, 1, 1, 1, 1, 1, 1, 1, 1, 1])"
      ]
     },
     "execution_count": 3,
     "metadata": {},
     "output_type": "execute_result"
    }
   ],
   "source": [
    "box.cluster_size()"
   ]
  },
  {
   "cell_type": "code",
   "execution_count": 9,
   "metadata": {},
   "outputs": [],
   "source": [
    "box.monte_carlo_steps(10**6)"
   ]
  },
  {
   "cell_type": "code",
   "execution_count": 10,
   "metadata": {},
   "outputs": [
    {
     "data": {
      "text/plain": [
       "33.333333333333336"
      ]
     },
     "execution_count": 10,
     "metadata": {},
     "output_type": "execute_result"
    }
   ],
   "source": [
    "c_size = box.cluster_size()\n",
    "np.mean(c_size)"
   ]
  },
  {
   "cell_type": "code",
   "execution_count": 11,
   "metadata": {},
   "outputs": [
    {
     "data": {
      "text/plain": [
       "(array([1., 0., 0., 0., 0., 0., 0., 0., 1., 1.]),\n",
       " array([15., 18., 21., 24., 27., 30., 33., 36., 39., 42., 45.]),\n",
       " <BarContainer object of 10 artists>)"
      ]
     },
     "execution_count": 11,
     "metadata": {},
     "output_type": "execute_result"
    },
    {
     "data": {
      "image/png": "[encoded data removed]",
      "text/plain": [
       "<Figure size 640x480 with 1 Axes>"
      ]
     },
     "metadata": {},
     "output_type": "display_data"
    }
   ],
   "source": [
    "plt.hist(box.cluster_size())"
   ]
  },
  {
   "cell_type": "code",
   "execution_count": 9,
   "metadata": {},
   "outputs": [
    {
     "data": {
      "text/plain": [
       "(100,)"
      ]
     },
     "execution_count": 9,
     "metadata": {},
     "output_type": "execute_result"
    }
   ],
   "source": [
    "np.where(box.lattice==1)[0].shape"
   ]
  },
  {
   "cell_type": "code",
   "execution_count": 18,
   "metadata": {},
   "outputs": [
    {
     "data": {
      "text/plain": [
       "[[1, 2, 3]]"
      ]
     },
     "execution_count": 18,
     "metadata": {},
     "output_type": "execute_result"
    }
   ],
   "source": [
    "A"
   ]
  },
  {
   "cell_type": "code",
   "execution_count": 17,
   "metadata": {},
   "outputs": [],
   "source": [
    "A.append([1,2,3])"
   ]
  }
 ],
 "metadata": {
  "kernelspec": {
   "display_name": "base",
   "language": "python",
   "name": "python3"
  },
  "language_info": {
   "codemirror_mode": {
    "name": "ipython",
    "version": 3
   },
   "file_extension": ".py",
   "mimetype": "text/x-python",
   "name": "python",
   "nbconvert_exporter": "python",
   "pygments_lexer": "ipython3",
   "version": "3.11.7"
  }
 },
 "nbformat": 4,
 "nbformat_minor": 2
}
